{
 "cells": [
  {
   "cell_type": "markdown",
   "id": "dda68c20",
   "metadata": {},
   "source": [
    "## Given an array integers  nums and integer target, retrun indices of two numbers such that\n",
    "## they can add up to traget\n",
    "## we may assume that each input has only one solution and you may not use the same element twice\n",
    "## Return the answer in any order\n",
    "## Constraint 2 <= nums.length <= 104 (length of the array), -10^9< array Size<10^9\n",
    "## -10^9 < target <=10^9"
   ]
  },
  {
   "cell_type": "code",
   "execution_count": 1,
   "id": "a1a26cfe",
   "metadata": {},
   "outputs": [],
   "source": [
    "## Solution#1: This  solution is brute force solution and used the iterative method using double for loop\n",
    "##space complexity : O(1) because we are not stroing anything only traversing the existing array\n",
    "### Time Complexity : O(n^2) -> using double for loop . Upto 10k elements will take 100Milisecond after \n",
    "##that time will be slow\n",
    "\n",
    "\n",
    "\n",
    "\n",
    "\n"
   ]
  },
  {
   "cell_type": "code",
   "execution_count": 5,
   "id": "e67dd31f",
   "metadata": {},
   "outputs": [],
   "source": [
    "class AddtwonumSolution:\n",
    "    def twoSum(self,nums: list[int],target: int) -> list[int]:\n",
    "        for i in range(len(nums)-1):  ## not taking last element because to skip last element.cut down one iteration\n",
    "            for j in range(i+1,len(nums)):\n",
    "                if nums[i] + nums[j] == target:\n",
    "                    return([i,j])\n",
    "            "
   ]
  },
  {
   "cell_type": "code",
   "execution_count": 6,
   "id": "89609bbb",
   "metadata": {},
   "outputs": [
    {
     "data": {
      "text/plain": [
       "[0, 1]"
      ]
     },
     "execution_count": 6,
     "metadata": {},
     "output_type": "execute_result"
    }
   ],
   "source": [
    "AS=AddtwonumSolution()\n",
    "AS.twoSum([2,7,11,15],9)"
   ]
  },
  {
   "cell_type": "code",
   "execution_count": 7,
   "id": "d72f089b",
   "metadata": {},
   "outputs": [
    {
     "data": {
      "text/plain": [
       "[1, 2]"
      ]
     },
     "execution_count": 7,
     "metadata": {},
     "output_type": "execute_result"
    }
   ],
   "source": [
    "AS.twoSum([3,2,4],6)"
   ]
  },
  {
   "cell_type": "code",
   "execution_count": 8,
   "id": "7f315c4f",
   "metadata": {},
   "outputs": [
    {
     "data": {
      "text/plain": [
       "[0, 1]"
      ]
     },
     "execution_count": 8,
     "metadata": {},
     "output_type": "execute_result"
    }
   ],
   "source": [
    "AS.twoSum([3,3],6)"
   ]
  },
  {
   "cell_type": "code",
   "execution_count": 9,
   "id": "e52dcea9",
   "metadata": {},
   "outputs": [
    {
     "data": {
      "text/plain": [
       "[0, 3]"
      ]
     },
     "execution_count": 9,
     "metadata": {},
     "output_type": "execute_result"
    }
   ],
   "source": [
    "AS.twoSum([1,2,3,4,5],5)"
   ]
  },
  {
   "cell_type": "code",
   "execution_count": 12,
   "id": "358e7cfe",
   "metadata": {},
   "outputs": [],
   "source": [
    "AS.twoSum([5],5)"
   ]
  },
  {
   "cell_type": "code",
   "execution_count": 10,
   "id": "0904e0fc",
   "metadata": {},
   "outputs": [],
   "source": [
    "## Solution#2 : This solution is the dictionary storage based solution so that no need to use double for loop. one loop\n",
    "## will be used hence time complexity:O(n) and spacecomplexity(O(n)) -> storing the data into dictionary"
   ]
  },
  {
   "cell_type": "code",
   "execution_count": 16,
   "id": "4a75e1d8",
   "metadata": {},
   "outputs": [],
   "source": [
    "class AddtwonumSolution:\n",
    "    def twoSum(self,nums: list[int],target: int) -> list[int]:\n",
    "        seen={} ## used more memory because of using dictionary\n",
    "        if len(nums)==0 or len(nums)==1:  ## return empty if input array is size 0 or 1\n",
    "            return([])\n",
    "        else:\n",
    "            for i,num in enumerate(nums):  ## enumerate used to get index and value both from array\n",
    "                if target-num in seen:    ## check key of dictionary contains the target - num value before or not\n",
    "                    return([seen[target-num],i])\n",
    "                else:\n",
    "                    seen[num]=i  ## add that number and index into dictionary \n",
    "            return([]) ## if no number found in list by adding to get target then return empty array \n",
    "                    "
   ]
  },
  {
   "cell_type": "code",
   "execution_count": 17,
   "id": "2326180b",
   "metadata": {},
   "outputs": [
    {
     "data": {
      "text/plain": [
       "[0, 1]"
      ]
     },
     "execution_count": 17,
     "metadata": {},
     "output_type": "execute_result"
    }
   ],
   "source": [
    "AS=AddtwonumSolution()\n",
    "AS.twoSum([2,7,11,15],9)"
   ]
  },
  {
   "cell_type": "code",
   "execution_count": 18,
   "id": "76b38bb9",
   "metadata": {},
   "outputs": [
    {
     "data": {
      "text/plain": [
       "[1, 2]"
      ]
     },
     "execution_count": 18,
     "metadata": {},
     "output_type": "execute_result"
    }
   ],
   "source": [
    "AS.twoSum([3,2,4],6)"
   ]
  },
  {
   "cell_type": "code",
   "execution_count": 19,
   "id": "930bfb14",
   "metadata": {},
   "outputs": [
    {
     "data": {
      "text/plain": [
       "[0, 1]"
      ]
     },
     "execution_count": 19,
     "metadata": {},
     "output_type": "execute_result"
    }
   ],
   "source": [
    "AS.twoSum([3,3],6)"
   ]
  },
  {
   "cell_type": "code",
   "execution_count": 20,
   "id": "2c0f91c8",
   "metadata": {},
   "outputs": [
    {
     "data": {
      "text/plain": [
       "[1, 2]"
      ]
     },
     "execution_count": 20,
     "metadata": {},
     "output_type": "execute_result"
    }
   ],
   "source": [
    "AS.twoSum([1,2,3,4,5],5)"
   ]
  },
  {
   "cell_type": "code",
   "execution_count": 21,
   "id": "8cde5814",
   "metadata": {},
   "outputs": [
    {
     "data": {
      "text/plain": [
       "[]"
      ]
     },
     "execution_count": 21,
     "metadata": {},
     "output_type": "execute_result"
    }
   ],
   "source": [
    "AS.twoSum([5],5)"
   ]
  },
  {
   "cell_type": "code",
   "execution_count": 22,
   "id": "00951783",
   "metadata": {},
   "outputs": [
    {
     "data": {
      "text/plain": [
       "[]"
      ]
     },
     "execution_count": 22,
     "metadata": {},
     "output_type": "execute_result"
    }
   ],
   "source": [
    "AS.twoSum([],5)"
   ]
  },
  {
   "cell_type": "code",
   "execution_count": 23,
   "id": "ef4ca370",
   "metadata": {},
   "outputs": [
    {
     "data": {
      "text/plain": [
       "[]"
      ]
     },
     "execution_count": 23,
     "metadata": {},
     "output_type": "execute_result"
    }
   ],
   "source": [
    "AS.twoSum([1,2,3,4],9)"
   ]
  },
  {
   "cell_type": "code",
   "execution_count": null,
   "id": "2087e754",
   "metadata": {},
   "outputs": [],
   "source": []
  }
 ],
 "metadata": {
  "kernelspec": {
   "display_name": "Python 3 (ipykernel)",
   "language": "python",
   "name": "python3"
  },
  "language_info": {
   "codemirror_mode": {
    "name": "ipython",
    "version": 3
   },
   "file_extension": ".py",
   "mimetype": "text/x-python",
   "name": "python",
   "nbconvert_exporter": "python",
   "pygments_lexer": "ipython3",
   "version": "3.9.7"
  }
 },
 "nbformat": 4,
 "nbformat_minor": 5
}
